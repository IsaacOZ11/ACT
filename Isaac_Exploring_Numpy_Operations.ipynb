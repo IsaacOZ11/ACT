{
  "nbformat": 4,
  "nbformat_minor": 0,
  "metadata": {
    "colab": {
      "provenance": [],
      "include_colab_link": true
    },
    "kernelspec": {
      "name": "python3",
      "display_name": "Python 3"
    },
    "language_info": {
      "name": "python"
    }
  },
  "cells": [
    {
      "cell_type": "markdown",
      "metadata": {
        "id": "view-in-github",
        "colab_type": "text"
      },
      "source": [
        "<a href=\"https://colab.research.google.com/github/IsaacOZ11/ACT/blob/main/Isaac_Exploring_Numpy_Operations.ipynb\" target=\"_parent\"><img src=\"https://colab.research.google.com/assets/colab-badge.svg\" alt=\"Open In Colab\"/></a>"
      ]
    },
    {
      "cell_type": "markdown",
      "source": [
        "NumPy Exercises for Data Analysis"
      ],
      "metadata": {
        "id": "hSsi2_-klame"
      }
    },
    {
      "cell_type": "code",
      "source": [
        "# Import numpy as np and see the version\n",
        "import numpy as np\n",
        "print(np.__version__)\n",
        "# your code here\n",
        "pass"
      ],
      "metadata": {
        "id": "kuK4TNepldem",
        "outputId": "592f4178-f999-479b-d523-733a12aa992f",
        "colab": {
          "base_uri": "https://localhost:8080/"
        }
      },
      "execution_count": 1,
      "outputs": [
        {
          "output_type": "stream",
          "name": "stdout",
          "text": [
            "1.23.5\n"
          ]
        }
      ]
    },
    {
      "cell_type": "code",
      "source": [
        "# Create a 1D array of numbers from 0 to 9\n",
        "# your code here\n",
        "my_array = np.arange(10)\n",
        "# Print the array\n",
        "print(my_array)\n",
        "pass"
      ],
      "metadata": {
        "id": "hbYX-oMBlvS-",
        "outputId": "fe7ae485-2dac-420a-dcda-9ab554791087",
        "colab": {
          "base_uri": "https://localhost:8080/"
        }
      },
      "execution_count": 2,
      "outputs": [
        {
          "output_type": "stream",
          "name": "stdout",
          "text": [
            "[0 1 2 3 4 5 6 7 8 9]\n"
          ]
        }
      ]
    },
    {
      "cell_type": "code",
      "source": [
        "# Create random vector of size 10 and replace the maximum value by 0\n",
        "random_vector = np.random.rand(10)\n",
        "\n",
        "# Find the index of the maximum value in the vector\n",
        "max_index = np.argmax(random_vector)\n",
        "\n",
        "# Replace the maximum value with 0\n",
        "random_vector[max_index] = 0\n",
        "\n",
        "# Print the modified vector\n",
        "print(random_vector)\n",
        "pass"
      ],
      "metadata": {
        "id": "HfsNmdvrwqsO",
        "outputId": "1dbb1a9e-086c-423e-cba6-17fd23b175d2",
        "colab": {
          "base_uri": "https://localhost:8080/"
        }
      },
      "execution_count": 3,
      "outputs": [
        {
          "output_type": "stream",
          "name": "stdout",
          "text": [
            "[0.15477826 0.91220883 0.68001242 0.24306339 0.54720206 0.5175512\n",
            " 0.28571847 0.16047918 0.         0.69780889]\n"
          ]
        }
      ]
    },
    {
      "cell_type": "code",
      "source": [
        "# Print the number 8 from the array below:\n",
        "# arr = np.array([[1,2,3,4,5], [6,7,8,9,10]])\n",
        "\n",
        "# Create the array\n",
        "arr = np.array([[1, 2, 3, 4, 5], [6, 7, 8, 9, 10]])\n",
        "# Access and print the element at the second row (index 1) and the third column (index 2)\n",
        "element = arr[1, 2]\n",
        "# Print the element\n",
        "print(element)\n",
        "pass"
      ],
      "metadata": {
        "id": "a9T-W3uUoqcE",
        "outputId": "d8a15b03-e6ea-4970-e083-42c4f7c783c5",
        "colab": {
          "base_uri": "https://localhost:8080/"
        }
      },
      "execution_count": 4,
      "outputs": [
        {
          "output_type": "stream",
          "name": "stdout",
          "text": [
            "8\n"
          ]
        }
      ]
    },
    {
      "cell_type": "code",
      "source": [
        "# Print the numbers [3, 4, 5] from the array below:\n",
        "# arr = np.array([1,2,3,4,5,6,7])\n",
        "# Create the array\n",
        "arr = np.array([1, 2, 3, 4, 5, 6, 7])\n",
        "\n",
        "# Use array slicing to extract the elements [3, 4, 5]\n",
        "subset = arr[2:5]\n",
        "\n",
        "# Print the subset\n",
        "print(subset)\n",
        "pass"
      ],
      "metadata": {
        "id": "PqvPijs8o2ub",
        "outputId": "ca4dd3f4-1fbb-4846-b494-4de7482c9759",
        "colab": {
          "base_uri": "https://localhost:8080/"
        }
      },
      "execution_count": 5,
      "outputs": [
        {
          "output_type": "stream",
          "name": "stdout",
          "text": [
            "[3 4 5]\n"
          ]
        }
      ]
    },
    {
      "cell_type": "code",
      "source": [
        "# Print the last 4 numbers from the array below:\n",
        "# arr = np.array([1,2,3,4,5,6,7])\n",
        "arr = np.array([1, 2, 3, 4, 5, 6, 7])\n",
        "# Use negative indexing to extract the last 4 elements\n",
        "subset = arr[-4:]\n",
        "# Print the subset\n",
        "print(subset)\n",
        "pass"
      ],
      "metadata": {
        "id": "H5iUCizHpk0L",
        "outputId": "866d115c-a4cd-4c57-b869-b74512de8a68",
        "colab": {
          "base_uri": "https://localhost:8080/"
        }
      },
      "execution_count": 6,
      "outputs": [
        {
          "output_type": "stream",
          "name": "stdout",
          "text": [
            "[4 5 6 7]\n"
          ]
        }
      ]
    },
    {
      "cell_type": "code",
      "source": [
        "# Create a 3×3 numpy array of all True’s\n",
        "# your code here\n",
        "true_array = np.full((3, 3), True)\n",
        "\n",
        "# Print the array\n",
        "print(true_array)\n",
        "pass"
      ],
      "metadata": {
        "id": "C9nBztXhl9NA",
        "outputId": "7b7c711c-715d-4e71-af97-549586f47967",
        "colab": {
          "base_uri": "https://localhost:8080/"
        }
      },
      "execution_count": 7,
      "outputs": [
        {
          "output_type": "stream",
          "name": "stdout",
          "text": [
            "[[ True  True  True]\n",
            " [ True  True  True]\n",
            " [ True  True  True]]\n"
          ]
        }
      ]
    },
    {
      "cell_type": "code",
      "source": [
        "# Extract all odd numbers from arr\n",
        "# your code here\n",
        "\n",
        "# Create a NumPy array\n",
        "arr = np.array([1, 2, 3, 4, 5, 6, 7, 8, 9])\n",
        "# Extract all odd numbers from the array\n",
        "odd_numbers = arr[arr % 2 != 0]\n",
        "# Print the extracted odd numbers\n",
        "print(odd_numbers)\n",
        "pass"
      ],
      "metadata": {
        "id": "W18lqbBwmIhw",
        "outputId": "7fa5f872-bba4-41ef-c34d-243ad2f37e82",
        "colab": {
          "base_uri": "https://localhost:8080/"
        }
      },
      "execution_count": 8,
      "outputs": [
        {
          "output_type": "stream",
          "name": "stdout",
          "text": [
            "[1 3 5 7 9]\n"
          ]
        }
      ]
    },
    {
      "cell_type": "code",
      "source": [
        "# Create a vector with values ranging from 10 to 49 (★☆☆)\n",
        "my_vector = np.arange(10, 50)\n",
        "print(my_vector)\n",
        "\n",
        "pass\n"
      ],
      "metadata": {
        "id": "hA9iXCAwr55v",
        "colab": {
          "base_uri": "https://localhost:8080/"
        },
        "outputId": "3531ef9b-e597-4a38-ac32-c519723a521d"
      },
      "execution_count": 9,
      "outputs": [
        {
          "output_type": "stream",
          "name": "stdout",
          "text": [
            "[10 11 12 13 14 15 16 17 18 19 20 21 22 23 24 25 26 27 28 29 30 31 32 33\n",
            " 34 35 36 37 38 39 40 41 42 43 44 45 46 47 48 49]\n"
          ]
        }
      ]
    },
    {
      "cell_type": "code",
      "source": [
        "# Reverse a vector (first element becomes last)\n",
        "# Create a vector\n",
        "my_vector = np.array([1, 2, 3, 4, 5])\n",
        "# Reverse the vector\n",
        "reversed_vector = my_vector[::-1]\n",
        "print(reversed_vector)\n",
        "\n",
        "pass"
      ],
      "metadata": {
        "id": "R-_IjeHyr83q",
        "colab": {
          "base_uri": "https://localhost:8080/"
        },
        "outputId": "2609f564-8fba-4197-ea78-37df4fd010d5"
      },
      "execution_count": 10,
      "outputs": [
        {
          "output_type": "stream",
          "name": "stdout",
          "text": [
            "[5 4 3 2 1]\n"
          ]
        }
      ]
    },
    {
      "cell_type": "code",
      "source": [
        "#  Create a 10x10 array with random integer values and find the minimum and maximum values\n",
        "random_array = np.random.randint(low=1, high=100, size=(10, 10))\n",
        "\n",
        "# Find the minimum and maximum values\n",
        "minimum_value = np.min(random_array)\n",
        "maximum_value = np.max(random_array)\n",
        "\n",
        "# Print the array and the minimum and maximum values\n",
        "print(\"Random Array:\")\n",
        "print(random_array)\n",
        "print(\"\\nMinimum Value:\", minimum_value)\n",
        "print(\"Maximum Value:\", maximum_value)\n",
        "\n",
        "pass"
      ],
      "metadata": {
        "id": "rEWwl_weuq3B",
        "colab": {
          "base_uri": "https://localhost:8080/"
        },
        "outputId": "03774bdb-211b-4abb-9688-c55aa67b9121"
      },
      "execution_count": 11,
      "outputs": [
        {
          "output_type": "stream",
          "name": "stdout",
          "text": [
            "Random Array:\n",
            "[[ 8 64 20 64 55 99 97 11 17 38]\n",
            " [71 20 60 72 59  7 36 80 80 48]\n",
            " [15 54 52 28 81 77 41 14 88 91]\n",
            " [78 22  6 44 50 12 91 42  6 23]\n",
            " [ 3 76 83 72 70 89 91 18 70 73]\n",
            " [ 6 21 65 70 13 59 29 74 25 20]\n",
            " [10 93 58 62 34 37 52 31 94 74]\n",
            " [67 20 16 14 87 73 46 12 41 51]\n",
            " [57 56 82 53 87 86 28 90 34 59]\n",
            " [21 39 86 62 24 63 72 34 57 37]]\n",
            "\n",
            "Minimum Value: 3\n",
            "Maximum Value: 99\n"
          ]
        }
      ]
    },
    {
      "cell_type": "code",
      "source": [
        "# Create a 3x3x3 array with random values\n",
        "# Create a 3x3x3 array with random integer values between 1 and 100\n",
        "random_int_3d_array = np.random.randint(low=1, high=100, size=(3, 3, 3))\n",
        "print(random_int_3d_array)\n",
        "\n",
        "pass"
      ],
      "metadata": {
        "id": "KFy17KsvvSql",
        "colab": {
          "base_uri": "https://localhost:8080/"
        },
        "outputId": "602ea33a-8582-48ae-948d-b4acec016ab8"
      },
      "execution_count": 12,
      "outputs": [
        {
          "output_type": "stream",
          "name": "stdout",
          "text": [
            "[[[69 40 45]\n",
            "  [72 19 60]\n",
            "  [21 76 16]]\n",
            "\n",
            " [[50  7  5]\n",
            "  [ 8  3 98]\n",
            "  [25 68  5]]\n",
            "\n",
            " [[63 88 61]\n",
            "  [19 14 70]\n",
            "  [43 34 91]]]\n"
          ]
        }
      ]
    },
    {
      "cell_type": "code",
      "source": [
        "# Replace all odd numbers in arr with -1\n",
        "# your code here\n",
        "arr = np.array([1, 2, 3, 4, 5, 6, 7, 8, 9])\n",
        "\n",
        "# Replace all odd numbers with -1\n",
        "arr[arr % 2 != 0] = -1\n",
        "\n",
        "print(arr)\n",
        "\n",
        "pass"
      ],
      "metadata": {
        "id": "X7ol3alqmbNa",
        "colab": {
          "base_uri": "https://localhost:8080/"
        },
        "outputId": "0cf9e6f8-d50f-4945-93d5-7c167be6a88d"
      },
      "execution_count": 13,
      "outputs": [
        {
          "output_type": "stream",
          "name": "stdout",
          "text": [
            "[-1  2 -1  4 -1  6 -1  8 -1]\n"
          ]
        }
      ]
    },
    {
      "cell_type": "code",
      "source": [
        "# Create an array of type float\n",
        "float_array = np.array([1.0, 2.5, 3.7, 4.2], dtype=float)\n",
        "\n",
        "print(float_array)\n",
        "print(\"Data Type:\", float_array.dtype)\n",
        "\n",
        "pass"
      ],
      "metadata": {
        "id": "GwdXYn9HqYTL",
        "colab": {
          "base_uri": "https://localhost:8080/"
        },
        "outputId": "dff50ac6-d7e8-4995-e7a8-d88d5cda8c52"
      },
      "execution_count": 14,
      "outputs": [
        {
          "output_type": "stream",
          "name": "stdout",
          "text": [
            "[1.  2.5 3.7 4.2]\n",
            "Data Type: float64\n"
          ]
        }
      ]
    },
    {
      "cell_type": "code",
      "source": [
        "# Convert a 1D array to a 2D array with 2 rows\n",
        "\n",
        "# Create a 1D array\n",
        "my_1d_array = np.array([1, 2, 3, 4, 5, 6, 7, 8])\n",
        "\n",
        "# Convert the 1D array to a 2D array with 2 rows\n",
        "my_2d_array = np.reshape(my_1d_array, (2, -1))\n",
        "\n",
        "# Print the 2D array\n",
        "print(my_2d_array)\n",
        "\n",
        "pass"
      ],
      "metadata": {
        "id": "LvcL1lUYoPjN",
        "colab": {
          "base_uri": "https://localhost:8080/"
        },
        "outputId": "10bf44e2-a3f6-42ce-9fb8-d64e9cc75f68"
      },
      "execution_count": 15,
      "outputs": [
        {
          "output_type": "stream",
          "name": "stdout",
          "text": [
            "[[1 2 3 4]\n",
            " [5 6 7 8]]\n"
          ]
        }
      ]
    },
    {
      "cell_type": "code",
      "source": [
        "# How to find common values between two arrays?\n",
        "\n",
        "Z1 = np.random.randint(0,10,10)\n",
        "Z2 = np.random.randint(0,10,10)\n",
        "\n",
        "# Find common values between Z1 and Z2\n",
        "common_values = np.intersect1d(Z1, Z2)\n",
        "\n",
        "# Print\n",
        "print(\"Z1:\", Z1)\n",
        "print(\"Z2:\", Z2)\n",
        "print(\"Common Values:\", common_values)\n",
        "\n",
        "pass"
      ],
      "metadata": {
        "id": "VbzMDKQvv0DX",
        "colab": {
          "base_uri": "https://localhost:8080/"
        },
        "outputId": "72557572-4cdb-4a0e-d234-822d2e486b64"
      },
      "execution_count": 16,
      "outputs": [
        {
          "output_type": "stream",
          "name": "stdout",
          "text": [
            "Z1: [2 7 5 1 1 0 4 7 8 2]\n",
            "Z2: [7 9 8 7 3 9 2 1 6 7]\n",
            "Common Values: [1 2 7 8]\n"
          ]
        }
      ]
    },
    {
      "cell_type": "code",
      "source": [
        "#  Consider two random array A and B, check if they are equal\n",
        "A = np.random.randint(0, 2, 5)\n",
        "B = np.random.randint(0, 2, 5)\n",
        "\n",
        "# Check if arrays A and B are equal\n",
        "are_equal = np.array_equal(A, B)\n",
        "\n",
        "# Print the arrays and the result of the equality check\n",
        "print(\"Array A:\", A)\n",
        "print(\"Array B:\", B)\n",
        "print(\"Arrays are equal:\", are_equal)\n",
        "\n",
        "\n",
        "pass"
      ],
      "metadata": {
        "id": "RWWspnDAwWGV",
        "colab": {
          "base_uri": "https://localhost:8080/"
        },
        "outputId": "66ab6d79-6f8b-4e1d-caf9-0c9569782047"
      },
      "execution_count": 17,
      "outputs": [
        {
          "output_type": "stream",
          "name": "stdout",
          "text": [
            "Array A: [0 1 0 1 1]\n",
            "Array B: [1 1 0 1 0]\n",
            "Arrays are equal: False\n"
          ]
        }
      ]
    },
    {
      "cell_type": "code",
      "source": [
        "# Stack arrays a and b vertically\n",
        "# your code here\n",
        "a = np.array([1, 2, 3])\n",
        "b = np.array([4, 5, 6])\n",
        "\n",
        "# Stack arrays a and b vertically\n",
        "stacked_array = np.vstack((a, b))\n",
        "\n",
        "# Print the stacked array\n",
        "print(stacked_array)\n",
        "\n",
        "pass"
      ],
      "metadata": {
        "id": "SW3KvPXhoeie",
        "colab": {
          "base_uri": "https://localhost:8080/"
        },
        "outputId": "afab4886-c3cb-4267-a1b2-9c66a5b4f500"
      },
      "execution_count": 18,
      "outputs": [
        {
          "output_type": "stream",
          "name": "stdout",
          "text": [
            "[[1 2 3]\n",
            " [4 5 6]]\n"
          ]
        }
      ]
    },
    {
      "cell_type": "code",
      "source": [
        "# Stack the arrays a and b horizontally.\n",
        "# your code here\n",
        "a = np.array([1, 2, 3])\n",
        "b = np.array([4, 5, 6])\n",
        "\n",
        "# Stack arrays a and b horizontally\n",
        "stacked_array = np.hstack((a, b))\n",
        "\n",
        "# Print the stacked array\n",
        "print(stacked_array)\n",
        "\n",
        "pass"
      ],
      "metadata": {
        "id": "6wVOpIT9omwe",
        "colab": {
          "base_uri": "https://localhost:8080/"
        },
        "outputId": "31712d82-1439-4c06-8d1b-bdb7757687c0"
      },
      "execution_count": 19,
      "outputs": [
        {
          "output_type": "stream",
          "name": "stdout",
          "text": [
            "[1 2 3 4 5 6]\n"
          ]
        }
      ]
    },
    {
      "cell_type": "code",
      "source": [
        "# Get all items between 5 and 10 from array tmp.\n",
        "# your code here\n",
        "#import numpy as np\n",
        "#tmp = np.arange(15)\n",
        "\n",
        "# Create a NumPy array\n",
        "tmp = np.array([1, 3, 7, 8, 5, 6, 2, 9, 4, 10])\n",
        "\n",
        "# Get all items between 5 and 10\n",
        "result = tmp[(tmp >= 5) & (tmp <= 10)]\n",
        "print(result)\n",
        "\n",
        "# pass"
      ],
      "metadata": {
        "id": "L_7vMkGOo0gX",
        "colab": {
          "base_uri": "https://localhost:8080/"
        },
        "outputId": "f7536881-e9cb-4f7c-bd65-bd68fe6a5a9d"
      },
      "execution_count": 20,
      "outputs": [
        {
          "output_type": "stream",
          "name": "stdout",
          "text": [
            "[ 7  8  5  6  9 10]\n"
          ]
        }
      ]
    },
    {
      "cell_type": "code",
      "source": [
        "# How to make a python function that handles scalars to work on numpy arrays?\n",
        "# Hint\n",
        "# Desired Output:\n",
        "# a = np.array([5, 7, 9, 8, 6, 4, 5])\n",
        "# b = np.array([6, 3, 4, 8, 9, 7, 1])\n",
        "# pair_max(a, b)\n",
        "# #> array([ 6.,  7.,  9.,  8.,  9.,  7.,  5.])\n",
        "\n",
        "# your code here\n",
        "#import numpy as np\n",
        "#def maxx(x, y):\n",
        "#    \"\"\"Get the maximum of two items\"\"\"\n",
        "#    if x >= y:\n",
        "#        return x\n",
        "#    else:\n",
        "#        return y\n",
        "#maxx(1, 5)\n",
        "\n",
        "def pair_max(a, b):\n",
        "    # Use numpy.maximum to find the element-wise maximum between a and b\n",
        "    result = np.maximum(a, b)\n",
        "    return result\n",
        "\n",
        "# Test the function with NumPy arrays\n",
        "a = np.array([5, 7, 9, 8, 6, 4, 5])\n",
        "b = np.array([6, 3, 4, 8, 9, 7, 1])\n",
        "\n",
        "output = pair_max(a, b)\n",
        "print(output)\n",
        "\n"
      ],
      "metadata": {
        "colab": {
          "base_uri": "https://localhost:8080/"
        },
        "id": "FVZz6ZY0p9ya",
        "outputId": "99f62378-b74e-46d4-9ffb-e96ecc2e4c2c"
      },
      "execution_count": 21,
      "outputs": [
        {
          "output_type": "stream",
          "name": "stdout",
          "text": [
            "[6 7 9 8 9 7 5]\n"
          ]
        }
      ]
    },
    {
      "cell_type": "code",
      "source": [
        "# Swap columns 1 and 2 in the array arr.\n",
        "# Hint\n",
        "# Desired Output:\n",
        "# [[0 2 1]\n",
        "#  [3 5 4]\n",
        "#  [6 8 7]]\n",
        "# your code here\n",
        "\n",
        "# Create a NumPy array\n",
        "arr = np.array([[0, 1, 2],\n",
        "                [3, 4, 5],\n",
        "                [6, 7, 8]])\n",
        "\n",
        "# Swap columns 1 and 2\n",
        "arr[:, [1, 2]] = arr[:, [2, 1]]\n",
        "\n",
        "# Print the modified array\n",
        "print(arr)\n",
        "\n",
        "pass\n"
      ],
      "metadata": {
        "colab": {
          "base_uri": "https://localhost:8080/"
        },
        "outputId": "537d046c-47be-4aef-f707-fd67c3371e09",
        "id": "8vIzM5e8ql6i"
      },
      "execution_count": 22,
      "outputs": [
        {
          "output_type": "stream",
          "name": "stdout",
          "text": [
            "[[0 2 1]\n",
            " [3 5 4]\n",
            " [6 8 7]]\n"
          ]
        }
      ]
    },
    {
      "cell_type": "code",
      "source": [
        "# Create a 2D array of shape 5x3 to contain random decimal numbers between 5 and 10.\n",
        "# Hint\n",
        "# The desired Output should be like the following one:\n",
        "#  [[ 8.50061025  9.10531502  6.85867783]\n",
        "#   [ 9.76262069  9.87717411  7.13466701]\n",
        "#   [ 7.48966403  8.33409158  6.16808631]\n",
        "#   [ 7.75010551  9.94535696  5.27373226]\n",
        "#   [ 8.0850361   5.56165518  7.31244004]]\n",
        "\n",
        "import numpy as np\n",
        "\n",
        "# Create a 2D array of shape 5x3 with random decimal numbers between 5 and 10\n",
        "random_array = np.random.uniform(5, 10, size=(5, 3))\n",
        "\n",
        "# Print the generated array\n",
        "print(random_array)\n"
      ],
      "metadata": {
        "id": "FOXX5b17rY7E",
        "colab": {
          "base_uri": "https://localhost:8080/"
        },
        "outputId": "ed1b6fa8-24d2-40d4-d38e-8e8bd89352e0"
      },
      "execution_count": 23,
      "outputs": [
        {
          "output_type": "stream",
          "name": "stdout",
          "text": [
            "[[8.00065601 5.71547036 8.55980945]\n",
            " [8.88751607 9.78572421 8.1320678 ]\n",
            " [9.41713823 6.20203176 7.33286294]\n",
            " [8.65991024 5.99285455 5.8234166 ]\n",
            " [5.63663679 5.58786273 6.92278533]]\n"
          ]
        }
      ]
    }
  ]
}