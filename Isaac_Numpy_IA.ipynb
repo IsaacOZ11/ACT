{
  "nbformat": 4,
  "nbformat_minor": 0,
  "metadata": {
    "colab": {
      "provenance": [],
      "include_colab_link": true
    },
    "kernelspec": {
      "name": "python3",
      "display_name": "Python 3"
    },
    "language_info": {
      "name": "python"
    }
  },
  "cells": [
    {
      "cell_type": "markdown",
      "metadata": {
        "id": "view-in-github",
        "colab_type": "text"
      },
      "source": [
        "<a href=\"https://colab.research.google.com/github/IsaacOZ11/ACT/blob/main/Isaac_Numpy_IA.ipynb\" target=\"_parent\"><img src=\"https://colab.research.google.com/assets/colab-badge.svg\" alt=\"Open In Colab\"/></a>"
      ]
    },
    {
      "cell_type": "code",
      "execution_count": 1,
      "metadata": {
        "colab": {
          "base_uri": "https://localhost:8080/"
        },
        "id": "Xmk5_BS_IYqF",
        "outputId": "9bf97039-c12f-41bb-b044-71da81fc4149"
      },
      "outputs": [
        {
          "output_type": "stream",
          "name": "stdout",
          "text": [
            "[1 2 4 5]\n",
            "(4,)\n",
            "(2, 4)\n",
            "[[1 2 3 4]\n",
            " [1 2 3 4]]\n",
            "<class 'numpy.ndarray'>\n",
            "[[0. 0. 0. 0.]\n",
            " [0. 0. 0. 0.]\n",
            " [0. 0. 0. 0.]\n",
            " [0. 0. 0. 0.]]\n",
            "[[5 5 5 5]\n",
            " [5 5 5 5]\n",
            " [5 5 5 5]\n",
            " [5 5 5 5]]\n",
            "[[1. 0. 0. 0.]\n",
            " [0. 1. 0. 0.]\n",
            " [0. 0. 1. 0.]\n",
            " [0. 0. 0. 1.]]\n",
            "-------------------------\n",
            "[[1. 1. 1. 1.]\n",
            " [1. 1. 1. 1.]\n",
            " [1. 1. 1. 1.]\n",
            " [1. 1. 1. 1.]]\n",
            "(4, 4)\n"
          ]
        }
      ],
      "source": [
        "from numpy.core.multiarray import zeros\n",
        "import numpy as np\n",
        "\n",
        "aux=np.array([1,2,4,5])\n",
        "print(aux)\n",
        "print(aux.shape)\n",
        "\n",
        "\n",
        "aux=np.array([[1,2,3,4],[1,2,3,4]])\n",
        "print(aux.shape)\n",
        "print(aux)\n",
        "print(type(aux))\n",
        "\n",
        "\n",
        "tmp=np.zeros([4,4])\n",
        "print(tmp)\n",
        "\n",
        "\n",
        "tmp=np.full([4,4],5)\n",
        "print(tmp)\n",
        "\n",
        "\n",
        "tmp=np.eye(4,4)\n",
        "print(tmp)\n",
        "\n",
        "print(\"-------------------------\")\n",
        "tmp=np.ones([4,4])\n",
        "print(tmp)\n",
        "\n",
        "print(tmp.shape)"
      ]
    },
    {
      "cell_type": "code",
      "source": [
        "tmp=10*np.random.random([3,3])\n",
        "print(tmp)"
      ],
      "metadata": {
        "colab": {
          "base_uri": "https://localhost:8080/"
        },
        "id": "nhhyZ6MDRrvr",
        "outputId": "486f8435-4973-4e63-b777-80b6dabed5fb"
      },
      "execution_count": 2,
      "outputs": [
        {
          "output_type": "stream",
          "name": "stdout",
          "text": [
            "[[8.16817332 7.24683855 4.55277248]\n",
            " [2.2894255  7.42769843 7.44560324]\n",
            " [6.66063555 5.66830458 9.8969471 ]]\n"
          ]
        }
      ]
    },
    {
      "cell_type": "code",
      "source": [],
      "metadata": {
        "id": "_SHJnJsdUDmM"
      },
      "execution_count": null,
      "outputs": []
    },
    {
      "cell_type": "code",
      "source": [
        "print(tmp[:2,:2])"
      ],
      "metadata": {
        "colab": {
          "base_uri": "https://localhost:8080/"
        },
        "id": "vJ8MtRPRSfJE",
        "outputId": "2452865c-b5d2-487e-fb0e-51b1b6070a84"
      },
      "execution_count": 3,
      "outputs": [
        {
          "output_type": "stream",
          "name": "stdout",
          "text": [
            "[[8.16817332 7.24683855]\n",
            " [2.2894255  7.42769843]]\n"
          ]
        }
      ]
    },
    {
      "cell_type": "code",
      "source": [
        "print(tmp[:2,1:3])"
      ],
      "metadata": {
        "colab": {
          "base_uri": "https://localhost:8080/"
        },
        "id": "biDZ7FvaTIgy",
        "outputId": "f19ded87-3a6b-4c30-8afa-5c8f886c28c0"
      },
      "execution_count": null,
      "outputs": [
        {
          "output_type": "stream",
          "name": "stdout",
          "text": [
            "[[6.45954779 0.04573917]\n",
            " [1.1309072  5.13337449]]\n"
          ]
        }
      ]
    },
    {
      "cell_type": "code",
      "source": [
        "print(tmp[2,2])"
      ],
      "metadata": {
        "colab": {
          "base_uri": "https://localhost:8080/"
        },
        "id": "AHhJ_MiTTpEm",
        "outputId": "416d9dc6-5ab3-4872-a560-01b222ce5c3b"
      },
      "execution_count": 4,
      "outputs": [
        {
          "output_type": "stream",
          "name": "stdout",
          "text": [
            "9.896947104429382\n"
          ]
        }
      ]
    },
    {
      "cell_type": "code",
      "source": [
        "tmp=10*np.random.random([3,3])\n",
        "print(tmp)"
      ],
      "metadata": {
        "colab": {
          "base_uri": "https://localhost:8080/"
        },
        "id": "LlhAmWcNUI7L",
        "outputId": "c447a648-508e-4196-e41e-08f086c0fce8"
      },
      "execution_count": 5,
      "outputs": [
        {
          "output_type": "stream",
          "name": "stdout",
          "text": [
            "[[1.81471545 5.97832131 8.23221795]\n",
            " [2.6693528  8.35456457 4.83614911]\n",
            " [4.126551   3.97788146 6.01855074]]\n"
          ]
        }
      ]
    },
    {
      "cell_type": "code",
      "source": [
        "mask=tmp>5\n",
        "print(tmp[mask])"
      ],
      "metadata": {
        "colab": {
          "base_uri": "https://localhost:8080/"
        },
        "id": "3OVQ-Z6YURsT",
        "outputId": "c52b4a5d-e7c9-43bc-f236-375501f25601"
      },
      "execution_count": 6,
      "outputs": [
        {
          "output_type": "stream",
          "name": "stdout",
          "text": [
            "[5.97832131 8.23221795 8.35456457 6.01855074]\n"
          ]
        }
      ]
    },
    {
      "cell_type": "code",
      "source": [
        "mask=(tmp>=2) & (tmp<=4)\n",
        "print(tmp[mask])"
      ],
      "metadata": {
        "colab": {
          "base_uri": "https://localhost:8080/"
        },
        "id": "VHTdazUyU7LD",
        "outputId": "eecee4fa-6c24-48dc-d6a5-29006d79b026"
      },
      "execution_count": 7,
      "outputs": [
        {
          "output_type": "stream",
          "name": "stdout",
          "text": [
            "[2.6693528  3.97788146]\n"
          ]
        }
      ]
    },
    {
      "cell_type": "code",
      "source": [
        "np = np.random.randint(0,100, (4,4))\n",
        "\n",
        "np = np[np % 2 == 0]\n",
        "print(np)"
      ],
      "metadata": {
        "colab": {
          "base_uri": "https://localhost:8080/"
        },
        "id": "QAjpYp2fWwVc",
        "outputId": "8ad7dfe6-667d-4565-99e3-c4095dfbfa1d"
      },
      "execution_count": 8,
      "outputs": [
        {
          "output_type": "stream",
          "name": "stdout",
          "text": [
            "[42 36 60 76 20 40 14 48 66]\n"
          ]
        }
      ]
    },
    {
      "cell_type": "code",
      "source": [
        "import numpy as np\n",
        "\n",
        "# Create an array with integer values batween 1 and 10\n",
        "a=np.random.randint(1,11,size=(3,4))\n",
        "b=np.random.randint(1,11,size=(3,4))\n",
        "print(a)\n",
        "print(b)\n",
        "print(a.shape)\n",
        "print(b.shape)\n",
        "print(\"adding numbers\")\n",
        "print(a+b)\n",
        "print(\"substracting numbers\")\n",
        "print(a-b)\n",
        "\n",
        "print(np.add(a,b))\n",
        "print(np.multiply(a,b))"
      ],
      "metadata": {
        "colab": {
          "base_uri": "https://localhost:8080/"
        },
        "id": "irnC60nlKKXy",
        "outputId": "aa9b108f-be6e-43b3-d22e-f52ee42a0660"
      },
      "execution_count": 9,
      "outputs": [
        {
          "output_type": "stream",
          "name": "stdout",
          "text": [
            "[[ 2  1  4  8]\n",
            " [ 6  6  1  9]\n",
            " [ 7 10  1 10]]\n",
            "[[ 6 10  9 10]\n",
            " [ 2  2 10  1]\n",
            " [ 4 10  5  1]]\n",
            "(3, 4)\n",
            "(3, 4)\n",
            "adding numbers\n",
            "[[ 8 11 13 18]\n",
            " [ 8  8 11 10]\n",
            " [11 20  6 11]]\n",
            "substracting numbers\n",
            "[[-4 -9 -5 -2]\n",
            " [ 4  4 -9  8]\n",
            " [ 3  0 -4  9]]\n",
            "[[ 8 11 13 18]\n",
            " [ 8  8 11 10]\n",
            " [11 20  6 11]]\n",
            "[[ 12  10  36  80]\n",
            " [ 12  12  10   9]\n",
            " [ 28 100   5  10]]\n"
          ]
        }
      ]
    },
    {
      "cell_type": "code",
      "source": [
        "a=np.random.randint(1,11,size=(2,3))\n",
        "b=np.random.randint(1,11,size=(3,4))\n",
        "print(a)\n",
        "print(b)\n",
        "print(np.dot(a,b))\n",
        "print(a.dot(b))"
      ],
      "metadata": {
        "colab": {
          "base_uri": "https://localhost:8080/"
        },
        "id": "5K-ZtwHBKPjC",
        "outputId": "b31bd87d-4e5a-4291-ad0b-d9208d81ea20"
      },
      "execution_count": 10,
      "outputs": [
        {
          "output_type": "stream",
          "name": "stdout",
          "text": [
            "[[1 9 1]\n",
            " [3 1 2]]\n",
            "[[6 1 7 3]\n",
            " [7 2 4 6]\n",
            " [9 2 8 6]]\n",
            "[[78 21 51 63]\n",
            " [43  9 41 27]]\n",
            "[[78 21 51 63]\n",
            " [43  9 41 27]]\n"
          ]
        }
      ]
    },
    {
      "cell_type": "code",
      "source": [
        "a=np.random.randint(1,11,size=(2,2))\n",
        "print(a.shape)\n",
        "print(type(a))\n",
        "print(a)\n",
        "print(a.T)"
      ],
      "metadata": {
        "colab": {
          "base_uri": "https://localhost:8080/"
        },
        "id": "V5W9sPgRKR6j",
        "outputId": "39114d70-fc3c-4c2a-a3ef-e1114a943d42"
      },
      "execution_count": 11,
      "outputs": [
        {
          "output_type": "stream",
          "name": "stdout",
          "text": [
            "(2, 2)\n",
            "<class 'numpy.ndarray'>\n",
            "[[3 4]\n",
            " [8 3]]\n",
            "[[3 8]\n",
            " [4 3]]\n"
          ]
        }
      ]
    },
    {
      "cell_type": "code",
      "source": [
        "a=np.random.randint(1,11,size=(4,3))\n",
        "b=np.array([1,0,2])\n",
        "print(a.shape)\n",
        "print(b.shape)\n",
        "\n",
        "c=np.empty_like(a)\n",
        "print(a)\n",
        "print(b)\n",
        "\n",
        "print(c.shape)\n",
        "print(\"----------------------\")\n",
        "print(c)"
      ],
      "metadata": {
        "colab": {
          "base_uri": "https://localhost:8080/"
        },
        "id": "J3Ee_E0vKUlN",
        "outputId": "009d9d8e-0e90-4644-dd83-7c8f46689cc6"
      },
      "execution_count": 12,
      "outputs": [
        {
          "output_type": "stream",
          "name": "stdout",
          "text": [
            "(4, 3)\n",
            "(3,)\n",
            "[[ 1  7 10]\n",
            " [10  6  7]\n",
            " [ 4 10  1]\n",
            " [ 3  5  6]]\n",
            "[1 0 2]\n",
            "(4, 3)\n",
            "----------------------\n",
            "[[ 2  1  4]\n",
            " [ 8  6  6]\n",
            " [ 1  9  7]\n",
            " [10  1 10]]\n"
          ]
        }
      ]
    },
    {
      "cell_type": "code",
      "source": [
        "for i in range(4):\n",
        "  c[i,:]=a[i,:]+b\n",
        "\n",
        "print (a)\n",
        "print (b)\n",
        "print (c)\n",
        "\n",
        "c=a+b\n",
        "print(c)"
      ],
      "metadata": {
        "colab": {
          "base_uri": "https://localhost:8080/"
        },
        "id": "I-fGerbOKXR8",
        "outputId": "a32140d0-7891-4d48-bc18-7e60cd5a912a"
      },
      "execution_count": 13,
      "outputs": [
        {
          "output_type": "stream",
          "name": "stdout",
          "text": [
            "[[ 1  7 10]\n",
            " [10  6  7]\n",
            " [ 4 10  1]\n",
            " [ 3  5  6]]\n",
            "[1 0 2]\n",
            "[[ 2  7 12]\n",
            " [11  6  9]\n",
            " [ 5 10  3]\n",
            " [ 4  5  8]]\n",
            "[[ 2  7 12]\n",
            " [11  6  9]\n",
            " [ 5 10  3]\n",
            " [ 4  5  8]]\n"
          ]
        }
      ]
    },
    {
      "cell_type": "code",
      "source": [
        "a=np.array([1,2,3])\n",
        "\n",
        "print(a)\n",
        "\n",
        "tmp=np.tile(a,(6,1))\n",
        "print(tmp)"
      ],
      "metadata": {
        "colab": {
          "base_uri": "https://localhost:8080/"
        },
        "id": "0pi227NeKZ3e",
        "outputId": "3a2665f2-f545-48a4-8dc0-4a0bbeb4880a"
      },
      "execution_count": 14,
      "outputs": [
        {
          "output_type": "stream",
          "name": "stdout",
          "text": [
            "[1 2 3]\n",
            "[[1 2 3]\n",
            " [1 2 3]\n",
            " [1 2 3]\n",
            " [1 2 3]\n",
            " [1 2 3]\n",
            " [1 2 3]]\n"
          ]
        }
      ]
    },
    {
      "cell_type": "code",
      "source": [
        "a=np.random.randint(0,10,size=(6,6))\n",
        "print(a)\n",
        "aux=np.mean(a)\n",
        "print(aux)\n",
        "\n",
        "\n",
        "\n",
        "print(a.mean(axis=1))"
      ],
      "metadata": {
        "colab": {
          "base_uri": "https://localhost:8080/"
        },
        "id": "oNmN-rjpKdg0",
        "outputId": "2f939a1e-48f2-4ad2-d859-5a06e12ee2e0"
      },
      "execution_count": 15,
      "outputs": [
        {
          "output_type": "stream",
          "name": "stdout",
          "text": [
            "[[0 2 6 7 9 4]\n",
            " [4 2 8 8 1 0]\n",
            " [2 1 4 5 7 7]\n",
            " [6 6 1 5 1 0]\n",
            " [6 2 1 4 7 6]\n",
            " [8 7 1 9 2 2]]\n",
            "4.194444444444445\n",
            "[4.66666667 3.83333333 4.33333333 3.16666667 4.33333333 4.83333333]\n"
          ]
        }
      ]
    }
  ]
}